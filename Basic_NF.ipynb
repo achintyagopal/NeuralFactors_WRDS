{
 "cells": [
  {
   "cell_type": "markdown",
   "metadata": {},
   "source": [
    "## Load Data"
   ]
  },
  {
   "cell_type": "code",
   "execution_count": 1,
   "metadata": {},
   "outputs": [
    {
     "data": {
      "text/html": [
       "<div>\n",
       "<style scoped>\n",
       "    .dataframe tbody tr th:only-of-type {\n",
       "        vertical-align: middle;\n",
       "    }\n",
       "\n",
       "    .dataframe tbody tr th {\n",
       "        vertical-align: top;\n",
       "    }\n",
       "\n",
       "    .dataframe thead th {\n",
       "        text-align: right;\n",
       "    }\n",
       "</style>\n",
       "<table border=\"1\" class=\"dataframe\">\n",
       "  <thead>\n",
       "    <tr style=\"text-align: right;\">\n",
       "      <th></th>\n",
       "      <th>Unnamed: 0</th>\n",
       "      <th>Unnamed: 0_daily</th>\n",
       "      <th>TICKER</th>\n",
       "      <th>Date</th>\n",
       "      <th>Daily_Return</th>\n",
       "      <th>month_key</th>\n",
       "      <th>SP500_Return</th>\n",
       "      <th>VIX_Close</th>\n",
       "      <th>public_date</th>\n",
       "      <th>de_ratio</th>\n",
       "      <th>...</th>\n",
       "      <th>cash_debt</th>\n",
       "      <th>permno</th>\n",
       "      <th>Unnamed: 0_monthly</th>\n",
       "      <th>PERMNO</th>\n",
       "      <th>tentativeSICCD</th>\n",
       "      <th>starting_date</th>\n",
       "      <th>end_date</th>\n",
       "      <th>correct_siccd</th>\n",
       "      <th>start_of_month</th>\n",
       "      <th>end_of_month</th>\n",
       "    </tr>\n",
       "  </thead>\n",
       "  <tbody>\n",
       "    <tr>\n",
       "      <th>0</th>\n",
       "      <td>0</td>\n",
       "      <td>22203</td>\n",
       "      <td>AAPL</td>\n",
       "      <td>2010-02-02</td>\n",
       "      <td>0.005803</td>\n",
       "      <td>2010-02</td>\n",
       "      <td>0.012973</td>\n",
       "      <td>21.480000</td>\n",
       "      <td>2010-02-28</td>\n",
       "      <td>0.639</td>\n",
       "      <td>...</td>\n",
       "      <td>0.641</td>\n",
       "      <td>14593</td>\n",
       "      <td>2612</td>\n",
       "      <td>14593</td>\n",
       "      <td>3571.0</td>\n",
       "      <td>2010-01-04</td>\n",
       "      <td>NaN</td>\n",
       "      <td>3571.0</td>\n",
       "      <td>2010-02-01</td>\n",
       "      <td>2010-02-28</td>\n",
       "    </tr>\n",
       "    <tr>\n",
       "      <th>1</th>\n",
       "      <td>1</td>\n",
       "      <td>22204</td>\n",
       "      <td>AAPL</td>\n",
       "      <td>2010-02-03</td>\n",
       "      <td>0.017206</td>\n",
       "      <td>2010-02</td>\n",
       "      <td>-0.005474</td>\n",
       "      <td>21.600000</td>\n",
       "      <td>2010-02-28</td>\n",
       "      <td>0.639</td>\n",
       "      <td>...</td>\n",
       "      <td>0.641</td>\n",
       "      <td>14593</td>\n",
       "      <td>2612</td>\n",
       "      <td>14593</td>\n",
       "      <td>3571.0</td>\n",
       "      <td>2010-01-04</td>\n",
       "      <td>NaN</td>\n",
       "      <td>3571.0</td>\n",
       "      <td>2010-02-01</td>\n",
       "      <td>2010-02-28</td>\n",
       "    </tr>\n",
       "    <tr>\n",
       "      <th>2</th>\n",
       "      <td>2</td>\n",
       "      <td>22205</td>\n",
       "      <td>AAPL</td>\n",
       "      <td>2010-02-04</td>\n",
       "      <td>-0.036038</td>\n",
       "      <td>2010-02</td>\n",
       "      <td>-0.031141</td>\n",
       "      <td>26.080000</td>\n",
       "      <td>2010-02-28</td>\n",
       "      <td>0.639</td>\n",
       "      <td>...</td>\n",
       "      <td>0.641</td>\n",
       "      <td>14593</td>\n",
       "      <td>2612</td>\n",
       "      <td>14593</td>\n",
       "      <td>3571.0</td>\n",
       "      <td>2010-01-04</td>\n",
       "      <td>NaN</td>\n",
       "      <td>3571.0</td>\n",
       "      <td>2010-02-01</td>\n",
       "      <td>2010-02-28</td>\n",
       "    </tr>\n",
       "    <tr>\n",
       "      <th>3</th>\n",
       "      <td>3</td>\n",
       "      <td>22206</td>\n",
       "      <td>AAPL</td>\n",
       "      <td>2010-02-05</td>\n",
       "      <td>0.017755</td>\n",
       "      <td>2010-02</td>\n",
       "      <td>0.002897</td>\n",
       "      <td>26.110001</td>\n",
       "      <td>2010-02-28</td>\n",
       "      <td>0.639</td>\n",
       "      <td>...</td>\n",
       "      <td>0.641</td>\n",
       "      <td>14593</td>\n",
       "      <td>2612</td>\n",
       "      <td>14593</td>\n",
       "      <td>3571.0</td>\n",
       "      <td>2010-01-04</td>\n",
       "      <td>NaN</td>\n",
       "      <td>3571.0</td>\n",
       "      <td>2010-02-01</td>\n",
       "      <td>2010-02-28</td>\n",
       "    </tr>\n",
       "    <tr>\n",
       "      <th>4</th>\n",
       "      <td>4</td>\n",
       "      <td>22207</td>\n",
       "      <td>AAPL</td>\n",
       "      <td>2010-02-08</td>\n",
       "      <td>-0.006856</td>\n",
       "      <td>2010-02</td>\n",
       "      <td>-0.008863</td>\n",
       "      <td>26.510000</td>\n",
       "      <td>2010-02-28</td>\n",
       "      <td>0.639</td>\n",
       "      <td>...</td>\n",
       "      <td>0.641</td>\n",
       "      <td>14593</td>\n",
       "      <td>2612</td>\n",
       "      <td>14593</td>\n",
       "      <td>3571.0</td>\n",
       "      <td>2010-01-04</td>\n",
       "      <td>NaN</td>\n",
       "      <td>3571.0</td>\n",
       "      <td>2010-02-01</td>\n",
       "      <td>2010-02-28</td>\n",
       "    </tr>\n",
       "  </tbody>\n",
       "</table>\n",
       "<p>5 rows × 31 columns</p>\n",
       "</div>"
      ],
      "text/plain": [
       "   Unnamed: 0  Unnamed: 0_daily TICKER        Date  Daily_Return month_key  \\\n",
       "0           0             22203   AAPL  2010-02-02      0.005803   2010-02   \n",
       "1           1             22204   AAPL  2010-02-03      0.017206   2010-02   \n",
       "2           2             22205   AAPL  2010-02-04     -0.036038   2010-02   \n",
       "3           3             22206   AAPL  2010-02-05      0.017755   2010-02   \n",
       "4           4             22207   AAPL  2010-02-08     -0.006856   2010-02   \n",
       "\n",
       "   SP500_Return  VIX_Close public_date  de_ratio  ...  cash_debt  permno  \\\n",
       "0      0.012973  21.480000  2010-02-28     0.639  ...      0.641   14593   \n",
       "1     -0.005474  21.600000  2010-02-28     0.639  ...      0.641   14593   \n",
       "2     -0.031141  26.080000  2010-02-28     0.639  ...      0.641   14593   \n",
       "3      0.002897  26.110001  2010-02-28     0.639  ...      0.641   14593   \n",
       "4     -0.008863  26.510000  2010-02-28     0.639  ...      0.641   14593   \n",
       "\n",
       "   Unnamed: 0_monthly  PERMNO  tentativeSICCD  starting_date  end_date  \\\n",
       "0                2612   14593          3571.0     2010-01-04       NaN   \n",
       "1                2612   14593          3571.0     2010-01-04       NaN   \n",
       "2                2612   14593          3571.0     2010-01-04       NaN   \n",
       "3                2612   14593          3571.0     2010-01-04       NaN   \n",
       "4                2612   14593          3571.0     2010-01-04       NaN   \n",
       "\n",
       "   correct_siccd  start_of_month  end_of_month  \n",
       "0         3571.0      2010-02-01    2010-02-28  \n",
       "1         3571.0      2010-02-01    2010-02-28  \n",
       "2         3571.0      2010-02-01    2010-02-28  \n",
       "3         3571.0      2010-02-01    2010-02-28  \n",
       "4         3571.0      2010-02-01    2010-02-28  \n",
       "\n",
       "[5 rows x 31 columns]"
      ]
     },
     "execution_count": 1,
     "metadata": {},
     "output_type": "execute_result"
    }
   ],
   "source": [
    "import pandas as pd\n",
    "\n",
    "\n",
    "df_combined_five = pd.read_csv(\"./dataprep_df_combined_five.csv\")\n",
    "df_combined_five.head()"
   ]
  },
  {
   "cell_type": "code",
   "execution_count": 2,
   "metadata": {},
   "outputs": [],
   "source": [
    "df_combined_five[\"Date\"] = pd.to_datetime(df_combined_five[\"Date\"])"
   ]
  },
  {
   "cell_type": "code",
   "execution_count": 3,
   "metadata": {},
   "outputs": [
    {
     "data": {
      "text/plain": [
       "Unnamed: 0                     int64\n",
       "Unnamed: 0_daily               int64\n",
       "TICKER                        object\n",
       "Date                  datetime64[ns]\n",
       "Daily_Return                 float64\n",
       "month_key                     object\n",
       "SP500_Return                 float64\n",
       "VIX_Close                    float64\n",
       "public_date                   object\n",
       "de_ratio                     float64\n",
       "ptb                          float64\n",
       "debt_assets                  float64\n",
       "inv_turn                     float64\n",
       "at_turn                      float64\n",
       "rect_turn                    float64\n",
       "cash_ratio                   float64\n",
       "pe_inc                       float64\n",
       "gpm                          float64\n",
       "roe                          float64\n",
       "roa                          float64\n",
       "cfm                          float64\n",
       "cash_debt                    float64\n",
       "permno                         int64\n",
       "Unnamed: 0_monthly             int64\n",
       "PERMNO                         int64\n",
       "tentativeSICCD               float64\n",
       "starting_date                 object\n",
       "end_date                      object\n",
       "correct_siccd                float64\n",
       "start_of_month                object\n",
       "end_of_month                  object\n",
       "dtype: object"
      ]
     },
     "execution_count": 3,
     "metadata": {},
     "output_type": "execute_result"
    }
   ],
   "source": [
    "df_combined_five.dtypes"
   ]
  },
  {
   "cell_type": "code",
   "execution_count": null,
   "metadata": {},
   "outputs": [],
   "source": []
  },
  {
   "cell_type": "code",
   "execution_count": 4,
   "metadata": {},
   "outputs": [
    {
     "data": {
      "text/html": [
       "<div>\n",
       "<style scoped>\n",
       "    .dataframe tbody tr th:only-of-type {\n",
       "        vertical-align: middle;\n",
       "    }\n",
       "\n",
       "    .dataframe tbody tr th {\n",
       "        vertical-align: top;\n",
       "    }\n",
       "\n",
       "    .dataframe thead th {\n",
       "        text-align: right;\n",
       "    }\n",
       "</style>\n",
       "<table border=\"1\" class=\"dataframe\">\n",
       "  <thead>\n",
       "    <tr style=\"text-align: right;\">\n",
       "      <th></th>\n",
       "      <th>Unnamed: 0.1</th>\n",
       "      <th>public_date</th>\n",
       "      <th>de_ratio</th>\n",
       "      <th>ptb</th>\n",
       "      <th>debt_assets</th>\n",
       "      <th>inv_turn</th>\n",
       "      <th>at_turn</th>\n",
       "      <th>rect_turn</th>\n",
       "      <th>cash_ratio</th>\n",
       "      <th>pe_inc</th>\n",
       "      <th>...</th>\n",
       "      <th>permno</th>\n",
       "      <th>Unnamed: 0</th>\n",
       "      <th>PERMNO</th>\n",
       "      <th>tentativeSICCD</th>\n",
       "      <th>starting_date</th>\n",
       "      <th>end_date</th>\n",
       "      <th>correct_siccd</th>\n",
       "      <th>start_of_month</th>\n",
       "      <th>end_of_month</th>\n",
       "      <th>month_key</th>\n",
       "    </tr>\n",
       "  </thead>\n",
       "  <tbody>\n",
       "    <tr>\n",
       "      <th>0</th>\n",
       "      <td>0</td>\n",
       "      <td>2010-01-31</td>\n",
       "      <td>0.991</td>\n",
       "      <td>1.152</td>\n",
       "      <td>0.498</td>\n",
       "      <td>2.272</td>\n",
       "      <td>1.001</td>\n",
       "      <td>6.346</td>\n",
       "      <td>0.466</td>\n",
       "      <td>16.550</td>\n",
       "      <td>...</td>\n",
       "      <td>54594</td>\n",
       "      <td>11702</td>\n",
       "      <td>54594</td>\n",
       "      <td>3721.0</td>\n",
       "      <td>2010-01-04</td>\n",
       "      <td>2014-01-08</td>\n",
       "      <td>3721.0</td>\n",
       "      <td>2010-01-01</td>\n",
       "      <td>2010-01-31</td>\n",
       "      <td>2010-01</td>\n",
       "    </tr>\n",
       "    <tr>\n",
       "      <th>1</th>\n",
       "      <td>2</td>\n",
       "      <td>2010-02-28</td>\n",
       "      <td>0.991</td>\n",
       "      <td>1.128</td>\n",
       "      <td>0.498</td>\n",
       "      <td>2.272</td>\n",
       "      <td>1.001</td>\n",
       "      <td>6.346</td>\n",
       "      <td>0.466</td>\n",
       "      <td>16.200</td>\n",
       "      <td>...</td>\n",
       "      <td>54594</td>\n",
       "      <td>11702</td>\n",
       "      <td>54594</td>\n",
       "      <td>3721.0</td>\n",
       "      <td>2010-01-04</td>\n",
       "      <td>2014-01-08</td>\n",
       "      <td>3721.0</td>\n",
       "      <td>2010-02-01</td>\n",
       "      <td>2010-02-28</td>\n",
       "      <td>2010-02</td>\n",
       "    </tr>\n",
       "    <tr>\n",
       "      <th>2</th>\n",
       "      <td>4</td>\n",
       "      <td>2010-03-31</td>\n",
       "      <td>0.991</td>\n",
       "      <td>1.237</td>\n",
       "      <td>0.498</td>\n",
       "      <td>2.272</td>\n",
       "      <td>1.001</td>\n",
       "      <td>6.346</td>\n",
       "      <td>0.466</td>\n",
       "      <td>17.729</td>\n",
       "      <td>...</td>\n",
       "      <td>54594</td>\n",
       "      <td>11702</td>\n",
       "      <td>54594</td>\n",
       "      <td>3721.0</td>\n",
       "      <td>2010-01-04</td>\n",
       "      <td>2014-01-08</td>\n",
       "      <td>3721.0</td>\n",
       "      <td>2010-03-01</td>\n",
       "      <td>2010-03-31</td>\n",
       "      <td>2010-03</td>\n",
       "    </tr>\n",
       "    <tr>\n",
       "      <th>3</th>\n",
       "      <td>6</td>\n",
       "      <td>2010-04-30</td>\n",
       "      <td>0.897</td>\n",
       "      <td>1.197</td>\n",
       "      <td>0.473</td>\n",
       "      <td>2.312</td>\n",
       "      <td>0.987</td>\n",
       "      <td>6.314</td>\n",
       "      <td>0.545</td>\n",
       "      <td>19.821</td>\n",
       "      <td>...</td>\n",
       "      <td>54594</td>\n",
       "      <td>11702</td>\n",
       "      <td>54594</td>\n",
       "      <td>3721.0</td>\n",
       "      <td>2010-01-04</td>\n",
       "      <td>2014-01-08</td>\n",
       "      <td>3721.0</td>\n",
       "      <td>2010-04-01</td>\n",
       "      <td>2010-04-30</td>\n",
       "      <td>2010-04</td>\n",
       "    </tr>\n",
       "    <tr>\n",
       "      <th>4</th>\n",
       "      <td>8</td>\n",
       "      <td>2010-05-31</td>\n",
       "      <td>0.897</td>\n",
       "      <td>0.968</td>\n",
       "      <td>0.473</td>\n",
       "      <td>2.312</td>\n",
       "      <td>0.987</td>\n",
       "      <td>6.314</td>\n",
       "      <td>0.545</td>\n",
       "      <td>16.016</td>\n",
       "      <td>...</td>\n",
       "      <td>54594</td>\n",
       "      <td>11702</td>\n",
       "      <td>54594</td>\n",
       "      <td>3721.0</td>\n",
       "      <td>2010-01-04</td>\n",
       "      <td>2014-01-08</td>\n",
       "      <td>3721.0</td>\n",
       "      <td>2010-05-01</td>\n",
       "      <td>2010-05-31</td>\n",
       "      <td>2010-05</td>\n",
       "    </tr>\n",
       "  </tbody>\n",
       "</table>\n",
       "<p>5 rows × 26 columns</p>\n",
       "</div>"
      ],
      "text/plain": [
       "   Unnamed: 0.1 public_date  de_ratio    ptb  debt_assets  inv_turn  at_turn  \\\n",
       "0             0  2010-01-31     0.991  1.152        0.498     2.272    1.001   \n",
       "1             2  2010-02-28     0.991  1.128        0.498     2.272    1.001   \n",
       "2             4  2010-03-31     0.991  1.237        0.498     2.272    1.001   \n",
       "3             6  2010-04-30     0.897  1.197        0.473     2.312    0.987   \n",
       "4             8  2010-05-31     0.897  0.968        0.473     2.312    0.987   \n",
       "\n",
       "   rect_turn  cash_ratio  pe_inc  ...  permno  Unnamed: 0  PERMNO  \\\n",
       "0      6.346       0.466  16.550  ...   54594       11702   54594   \n",
       "1      6.346       0.466  16.200  ...   54594       11702   54594   \n",
       "2      6.346       0.466  17.729  ...   54594       11702   54594   \n",
       "3      6.314       0.545  19.821  ...   54594       11702   54594   \n",
       "4      6.314       0.545  16.016  ...   54594       11702   54594   \n",
       "\n",
       "   tentativeSICCD  starting_date    end_date  correct_siccd  start_of_month  \\\n",
       "0          3721.0     2010-01-04  2014-01-08         3721.0      2010-01-01   \n",
       "1          3721.0     2010-01-04  2014-01-08         3721.0      2010-02-01   \n",
       "2          3721.0     2010-01-04  2014-01-08         3721.0      2010-03-01   \n",
       "3          3721.0     2010-01-04  2014-01-08         3721.0      2010-04-01   \n",
       "4          3721.0     2010-01-04  2014-01-08         3721.0      2010-05-01   \n",
       "\n",
       "   end_of_month  month_key  \n",
       "0    2010-01-31    2010-01  \n",
       "1    2010-02-28    2010-02  \n",
       "2    2010-03-31    2010-03  \n",
       "3    2010-04-30    2010-04  \n",
       "4    2010-05-31    2010-05  \n",
       "\n",
       "[5 rows x 26 columns]"
      ]
     },
     "execution_count": 4,
     "metadata": {},
     "output_type": "execute_result"
    }
   ],
   "source": [
    "df_merged_five = pd.read_csv(\"./dataprep_df_merged_five.csv\")\n",
    "df_merged_five.head()"
   ]
  },
  {
   "cell_type": "code",
   "execution_count": 5,
   "metadata": {},
   "outputs": [
    {
     "data": {
      "text/plain": [
       "<AxesSubplot: >"
      ]
     },
     "execution_count": 5,
     "metadata": {},
     "output_type": "execute_result"
    },
    {
     "data": {
      "image/png": "[encoded data removed]",
      "text/plain": [
       "<Figure size 640x480 with 1 Axes>"
      ]
     },
     "metadata": {},
     "output_type": "display_data"
    }
   ],
   "source": [
    "df_merged_five.pe_inc.hist()"
   ]
  },
  {
   "cell_type": "code",
   "execution_count": 11,
   "metadata": {},
   "outputs": [
    {
     "data": {
      "text/plain": [
       "Index(['Unnamed: 0', 'Unnamed: 0_daily', 'TICKER', 'Date', 'Daily_Return',\n",
       "       'month_key', 'SP500_Return', 'VIX_Close', 'public_date', 'de_ratio',\n",
       "       'ptb', 'debt_assets', 'inv_turn', 'at_turn', 'rect_turn', 'cash_ratio',\n",
       "       'pe_inc', 'gpm', 'roe', 'roa', 'cfm', 'cash_debt', 'permno',\n",
       "       'Unnamed: 0_monthly', 'PERMNO', 'tentativeSICCD', 'starting_date',\n",
       "       'end_date', 'correct_siccd', 'start_of_month', 'end_of_month'],\n",
       "      dtype='object')"
      ]
     },
     "execution_count": 11,
     "metadata": {},
     "output_type": "execute_result"
    }
   ],
   "source": [
    "df_combined_five.columns"
   ]
  },
  {
   "cell_type": "markdown",
   "metadata": {},
   "source": [
    "## Create Torch Dataset Object"
   ]
  },
  {
   "cell_type": "code",
   "execution_count": 12,
   "metadata": {},
   "outputs": [],
   "source": [
    "import numpy as np \n",
    "import torch\n",
    "from torch.utils.data import Dataset, default_collate\n",
    "\n",
    "\n",
    "class DataAccessor:\n",
    "\n",
    "    def  __init__(\n",
    "        self,\n",
    "        df,\n",
    "        security_col,\n",
    "        return_col,\n",
    "        date_col,\n",
    "        # lookback,\n",
    "        cont_cols=None,\n",
    "        # cat_cols=None,\n",
    "        train_start_date=None, # Inclusive\n",
    "        train_end_date=None, # Exclusive        \n",
    "    ):\n",
    "        df = df.sort_values([security_col, date_col]).reset_index(drop=True)\n",
    "        df[\"_cumcount\"] = df.groupby(security_col).cumcount()\n",
    "        df[\"_index\"] = np.arange(len(df))\n",
    "\n",
    "        self.df = df\n",
    "        self.date_col = date_col\n",
    "        self.security_col= security_col\n",
    "\n",
    "        self.index_lookup_dict = df.groupby([date_col, security_col])[\"_index\"].first().to_dict()\n",
    "        self.per_day_index = df.groupby(date_col)[\"_index\"].unique().to_dict()\n",
    "\n",
    "        train_sub_df = df\n",
    "        if train_start_date is not None:\n",
    "            train_sub_df = train_sub_df[train_sub_df[date_col] >= pd.to_datetime(train_start_date)]\n",
    "        if train_end_date is not None:\n",
    "            train_sub_df = train_sub_df[train_sub_df[date_col] < pd.to_datetime(train_end_date)]\n",
    "        \n",
    "        norm_stats = {}\n",
    "\n",
    "        returns_std = train_sub_df[return_col].std()\n",
    "        norm_stats[\"returns_std\"] = returns_std\n",
    "        self.returns = torch.Tensor(df[return_col].values / returns_std).float()\n",
    "\n",
    "        if cont_cols is None:\n",
    "            cont_cols = tuple()\n",
    "        # if len(cont_cols) > 0:\n",
    "        cont_cols_mean, cont_cols_std = train_sub_df[cont_cols].mean().values, train_sub_df[cont_cols].std().values\n",
    "        norm_stats[\"cont_cols_mean\"] = cont_cols_mean\n",
    "        norm_stats[\"cont_cols_std\"] = cont_cols_std\n",
    "        self.cont_feats = torch.Tensor((df[cont_cols].values - cont_cols_mean) / cont_cols_std).float()\n",
    "        # else:\n",
    "        #     self.cont_feats = None\n",
    "\n",
    "        self.cumcounts = torch.Tensor(df[\"_cumcount\"].values)\n",
    "        self.norm_stats = norm_stats\n",
    "\n",
    "    def get_all_securities_by_date(\n",
    "        self,\n",
    "        date,\n",
    "        lookback,\n",
    "    ):\n",
    "        return default_collate([\n",
    "            self.get_row_by_index(index) for index in self.per_day_index[date]\n",
    "        ])\n",
    "\n",
    "    def get_row_by_index(self, index, lookback):\n",
    "        assert self.cumcounts[index] >= lookback\n",
    "\n",
    "        out = {\n",
    "            \"future_return\": self.returns[index],\n",
    "            \"lookback_returns\": self.returns[index - lookback: index],\n",
    "        }\n",
    "        # if self.cont_feats is not None:\n",
    "        out[\"lookback_cont_features\"] = self.cont_feats[index - lookback: index]\n",
    "        return out\n",
    "\n",
    "    def get_by_security_and_date(\n",
    "        self, \n",
    "        security, \n",
    "        date,\n",
    "        lookback,\n",
    "    ):\n",
    "        index = self.index_lookup_dict[(date, security)]\n",
    "        return self.get_row_by_index(index, lookback)\n",
    "\n",
    "class MyDataset(Dataset):\n",
    "\n",
    "    def __init__(\n",
    "        self,\n",
    "        data_accessor: DataAccessor,\n",
    "        lookback: int,\n",
    "        start_date=None,\n",
    "        end_date=None,\n",
    "    ):\n",
    "        self.data_accessor = data_accessor\n",
    "        self.lookback = lookback\n",
    "\n",
    "        df = data_accessor.df\n",
    "        date_col = data_accessor.date_col\n",
    "\n",
    "        sub_df = df[\n",
    "            (df[\"_cumcount\"] >= lookback)\n",
    "        ]\n",
    "        if start_date is not None:\n",
    "            sub_df = sub_df[sub_df[date_col] >= pd.to_datetime(start_date)]\n",
    "        if end_date is not None:\n",
    "            sub_df = sub_df[sub_df[date_col] < pd.to_datetime(end_date)]\n",
    "        \n",
    "        self.per_day_index = sub_df.groupby(date_col)[\"_index\"].unique().to_dict()\n",
    "        self.dates = list(self.per_day_index.keys())\n",
    "\n",
    "    def __getitem__(self, idx):\n",
    "        date = self.dates[idx]\n",
    "        indices = self.per_day_index[date]\n",
    "        return default_collate([\n",
    "            self.data_accessor.get_row_by_index(index, lookback=self.lookback) for index in indices\n",
    "        ])\n",
    "    \n",
    "    def __len__(self):\n",
    "        return len(self.dates)"
   ]
  },
  {
   "cell_type": "code",
   "execution_count": 13,
   "metadata": {},
   "outputs": [],
   "source": [
    "\n",
    "TRAINING_START_DATE = None\n",
    "VALIDATION_START_DATE = \"2018-01-01\"\n",
    "TESTING_START_DATE = \"2020-01-01\"\n",
    "LOOKBACK = 32\n",
    "CONT_COLS=[\n",
    "    # 'SP500_Return', \n",
    "    # 'VIX_Close',\n",
    "    # 'de_ratio',\n",
    "    # 'ptb', 'debt_assets', 'inv_turn', 'at_turn', 'rect_turn', 'cash_ratio',\n",
    "    # 'pe_inc', 'gpm', 'roe', 'roa', 'cfm', 'cash_debt'\n",
    "]\n",
    "\n",
    "data_accessor = DataAccessor(\n",
    "    df_combined_five,\n",
    "    security_col=\"TICKER\",\n",
    "    return_col=\"Daily_Return\",\n",
    "    date_col=\"Date\",\n",
    "    cont_cols=CONT_COLS,\n",
    "    train_start_date=TRAINING_START_DATE,\n",
    "    train_end_date=VALIDATION_START_DATE,\n",
    ")\n",
    "train_dataset = MyDataset(\n",
    "    data_accessor=data_accessor,\n",
    "    lookback=LOOKBACK,\n",
    "    start_date=TRAINING_START_DATE,\n",
    "    end_date=VALIDATION_START_DATE,\n",
    ")\n",
    "valid_dataset = MyDataset(\n",
    "    data_accessor=data_accessor,\n",
    "    lookback=LOOKBACK,\n",
    "    start_date=VALIDATION_START_DATE,\n",
    "    end_date=TESTING_START_DATE,\n",
    ")\n",
    "test_dataset = MyDataset(\n",
    "    data_accessor=data_accessor,\n",
    "    lookback=LOOKBACK,\n",
    "    start_date=TESTING_START_DATE,\n",
    ")"
   ]
  },
  {
   "cell_type": "code",
   "execution_count": 14,
   "metadata": {},
   "outputs": [
    {
     "data": {
      "text/plain": [
       "(1961, 503, 756)"
      ]
     },
     "execution_count": 14,
     "metadata": {},
     "output_type": "execute_result"
    }
   ],
   "source": [
    "len(train_dataset), len(valid_dataset), len(test_dataset)"
   ]
  },
  {
   "cell_type": "code",
   "execution_count": null,
   "metadata": {},
   "outputs": [],
   "source": [
    "from torch.utils.data import DataLoader\n",
    "\n",
    "\n",
    "def infinite_loader(loader):\n",
    "    while True:\n",
    "        for batch in loader:\n",
    "            yield batch\n",
    "train_dataloader = DataLoader(train_dataset, batch_size=32, shuffle=True, drop_last=True)\n",
    "val_dataloader = DataLoader(valid_dataset, batch_size=32, shuffle=False, drop_last=False)\n"
   ]
  },
  {
   "cell_type": "markdown",
   "metadata": {},
   "source": [
    "## Train Simple VAE\n",
    "\n",
    "By \"Simple VAE\", we mean concatenating all securities into a vector and training a VAE on this multivariate target."
   ]
  },
  {
   "cell_type": "code",
   "execution_count": 29,
   "metadata": {},
   "outputs": [
    {
     "name": "stderr",
     "output_type": "stream",
     "text": [
      "GPU available: False, used: False\n",
      "TPU available: False, using: 0 TPU cores\n",
      "HPU available: False, using: 0 HPUs\n",
      "\n",
      "  | Name               | Type       | Params | Mode \n",
      "----------------------------------------------------------\n",
      "0 | conditioning_model | Sequential | 75.3 K | train\n",
      "1 | encoder            | Sequential | 21.6 K | train\n",
      "2 | decoder            | Sequential | 22.0 K | train\n",
      "----------------------------------------------------------\n",
      "118 K     Trainable params\n",
      "0         Non-trainable params\n",
      "118 K     Total params\n",
      "0.476     Total estimated model params size (MB)\n",
      "66        Modules in train mode\n",
      "0         Modules in eval mode\n"
     ]
    },
    {
     "name": "stdout",
     "output_type": "stream",
     "text": [
      "Epoch 19: 100%|██████████| 100/100 [00:13<00:00,  7.36it/s, v_num=15, train_loss_step=6.760, val_loss=6.550, train_loss_epoch=6.050]"
     ]
    },
    {
     "name": "stderr",
     "output_type": "stream",
     "text": [
      "`Trainer.fit` stopped: `max_epochs=20` reached.\n"
     ]
    },
    {
     "name": "stdout",
     "output_type": "stream",
     "text": [
      "Epoch 19: 100%|██████████| 100/100 [00:13<00:00,  7.33it/s, v_num=15, train_loss_step=6.760, val_loss=6.550, train_loss_epoch=6.050]\n"
     ]
    }
   ],
   "source": [
    "import pytorch_lightning as pl\n",
    "from src.simple_vae import SimpleVAE\n",
    "from pytorch_lightning.loggers import CSVLogger\n",
    "\n",
    "\n",
    "model = SimpleVAE(\n",
    "    num_securities=5,\n",
    "    num_cont_cols=len(CONT_COLS),\n",
    "    hidden_size=64,\n",
    "    embed_size=4,\n",
    "    num_blocks=2,\n",
    "    out_dist='StudentT',\n",
    "    dropout=0.0,\n",
    "    warmup_period=100,\n",
    "    k=20,\n",
    "    lr=1e-4,\n",
    "    wd=0,\n",
    ")\n",
    "\n",
    "logger = CSVLogger('./logs/')\n",
    "trainer = pl.Trainer(\n",
    "    max_epochs=20,\n",
    "    accelerator='cpu', \n",
    "    limit_train_batches=100,\n",
    "    logger=logger,\n",
    "    enable_progress_bar=True,\n",
    ")\n",
    "\n",
    "inf_train_dataloader = infinite_loader(train_dataloader)\n",
    "trainer.fit(model, train_dataloaders=inf_train_dataloader, val_dataloaders=val_dataloader)"
   ]
  },
  {
   "cell_type": "code",
   "execution_count": 30,
   "metadata": {},
   "outputs": [
    {
     "data": {
      "image/png": "[encoded data removed]",
      "text/plain": [
       "<Figure size 640x480 with 1 Axes>"
      ]
     },
     "metadata": {},
     "output_type": "display_data"
    }
   ],
   "source": [
    "import os\n",
    "from matplotlib import pyplot as plt\n",
    "\n",
    "pd.read_csv(os.path.join(logger.log_dir, \"metrics.csv\")).train_loss_epoch.dropna().plot(label=\"Training\")\n",
    "pd.read_csv(os.path.join(logger.log_dir, \"metrics.csv\")).val_loss.dropna().plot(label=\"Validation\")\n",
    "plt.legend()\n",
    "plt.show()"
   ]
  },
  {
   "cell_type": "markdown",
   "metadata": {},
   "source": [
    "## Train Enhanced VAE\n",
    "\n",
    "By \"Enhanced VAE\", instead of concatenating the returns:\n",
    "1. we run an RNN on each security independently\n",
    "2. take each hidden vector, average them across the universe, and apply layers to get posterior (i.e., a single z vector for all securities)\n",
    "3. decode using the shared z and the hidden state from step 1\n",
    "\n",
    "By design, this model:\n",
    "* Is permutation equivariant\n",
    "* Agnostic to number of securites"
   ]
  },
  {
   "cell_type": "code",
   "execution_count": 37,
   "metadata": {},
   "outputs": [
    {
     "name": "stderr",
     "output_type": "stream",
     "text": [
      "GPU available: False, used: False\n",
      "TPU available: False, using: 0 TPU cores\n",
      "HPU available: False, using: 0 HPUs\n",
      "\n",
      "  | Name               | Type       | Params | Mode \n",
      "----------------------------------------------------------\n",
      "0 | conditioning_model | Sequential | 75.0 K | train\n",
      "1 | ind_cond           | ResidBlock | 8.3 K  | train\n",
      "2 | agg_cond           | ResidBlock | 8.3 K  | train\n",
      "3 | encoder_ind        | Sequential | 20.9 K | train\n",
      "4 | encoder_agg        | Sequential | 8.8 K  | train\n",
      "5 | decoder            | Sequential | 21.3 K | train\n",
      "----------------------------------------------------------\n",
      "142 K     Trainable params\n",
      "0         Non-trainable params\n",
      "142 K     Total params\n",
      "0.570     Total estimated model params size (MB)\n",
      "91        Modules in train mode\n",
      "0         Modules in eval mode\n"
     ]
    },
    {
     "name": "stdout",
     "output_type": "stream",
     "text": [
      "Epoch 19: 100%|██████████| 100/100 [00:23<00:00,  4.29it/s, v_num=19, train_loss_step=6.260, val_loss=6.310, train_loss_epoch=5.960]"
     ]
    },
    {
     "name": "stderr",
     "output_type": "stream",
     "text": [
      "`Trainer.fit` stopped: `max_epochs=20` reached.\n"
     ]
    },
    {
     "name": "stdout",
     "output_type": "stream",
     "text": [
      "Epoch 19: 100%|██████████| 100/100 [00:23<00:00,  4.28it/s, v_num=19, train_loss_step=6.260, val_loss=6.310, train_loss_epoch=5.960]\n"
     ]
    }
   ],
   "source": [
    "import pytorch_lightning as pl\n",
    "from src.enhanced_vae import EnhancedVAE\n",
    "from pytorch_lightning.loggers import CSVLogger\n",
    "\n",
    "\n",
    "model = EnhancedVAE(\n",
    "    num_securities=5,\n",
    "    num_cont_cols=len(CONT_COLS),\n",
    "    hidden_size=64,\n",
    "    embed_size=4,\n",
    "    num_blocks=2,\n",
    "    out_dist='StudentT',\n",
    "    dropout=0.0,\n",
    "    warmup_period=100,\n",
    "    k=20,\n",
    "    lr=1e-4,\n",
    "    wd=0,\n",
    ")\n",
    "\n",
    "logger = CSVLogger('./logs/')\n",
    "trainer = pl.Trainer(\n",
    "    max_epochs=20,\n",
    "    accelerator='cpu', \n",
    "    limit_train_batches=100,\n",
    "    logger=logger,\n",
    "    enable_progress_bar=True,\n",
    ")\n",
    "\n",
    "inf_train_dataloader = infinite_loader(train_dataloader)\n",
    "trainer.fit(model, train_dataloaders=inf_train_dataloader, val_dataloaders=val_dataloader)"
   ]
  },
  {
   "cell_type": "code",
   "execution_count": 38,
   "metadata": {},
   "outputs": [
    {
     "data": {
      "image/png": "[encoded data removed]",
      "text/plain": [
       "<Figure size 640x480 with 1 Axes>"
      ]
     },
     "metadata": {},
     "output_type": "display_data"
    }
   ],
   "source": [
    "import os\n",
    "from matplotlib import pyplot as plt\n",
    "\n",
    "pd.read_csv(os.path.join(logger.log_dir, \"metrics.csv\")).train_loss_epoch.dropna().plot(label=\"Training\")\n",
    "pd.read_csv(os.path.join(logger.log_dir, \"metrics.csv\")).val_loss.dropna().plot(label=\"Validation\")\n",
    "plt.legend()\n",
    "plt.show()"
   ]
  },
  {
   "cell_type": "markdown",
   "metadata": {},
   "source": [
    "## Train Neural Factors\n"
   ]
  },
  {
   "cell_type": "code",
   "execution_count": 74,
   "metadata": {},
   "outputs": [
    {
     "name": "stderr",
     "output_type": "stream",
     "text": [
      "GPU available: False, used: False\n",
      "TPU available: False, using: 0 TPU cores\n",
      "HPU available: False, using: 0 HPUs\n",
      "\n",
      "  | Name               | Type       | Params | Mode \n",
      "----------------------------------------------------------\n",
      "0 | conditioning_model | Sequential | 75.0 K | train\n",
      "1 | out_layer          | Linear     | 390    | train\n",
      "----------------------------------------------------------\n",
      "75.4 K    Trainable params\n",
      "0         Non-trainable params\n",
      "75.4 K    Total params\n",
      "0.302     Total estimated model params size (MB)\n",
      "29        Modules in train mode\n",
      "0         Modules in eval mode\n"
     ]
    },
    {
     "name": "stdout",
     "output_type": "stream",
     "text": [
      "Epoch 19: 100%|██████████| 100/100 [00:28<00:00,  3.47it/s, v_num=35, train_loss_step=5.280, val_loss=6.180, train_loss_epoch=5.890]"
     ]
    },
    {
     "name": "stderr",
     "output_type": "stream",
     "text": [
      "`Trainer.fit` stopped: `max_epochs=20` reached.\n"
     ]
    },
    {
     "name": "stdout",
     "output_type": "stream",
     "text": [
      "Epoch 19: 100%|██████████| 100/100 [00:28<00:00,  3.47it/s, v_num=35, train_loss_step=5.280, val_loss=6.180, train_loss_epoch=5.890]\n"
     ]
    }
   ],
   "source": [
    "import pytorch_lightning as pl\n",
    "from src.neural_factors import NeuralFactors\n",
    "from pytorch_lightning.loggers import CSVLogger\n",
    "\n",
    "\n",
    "model = NeuralFactors(\n",
    "    num_securities=5,\n",
    "    num_cont_cols=len(CONT_COLS),\n",
    "    hidden_size=64,\n",
    "    embed_size=4,\n",
    "    num_blocks=2,\n",
    "    out_dist='StudentT',\n",
    "    dropout=0.0,\n",
    "    warmup_period=100,\n",
    "    k=20,\n",
    "    lr=1e-4,\n",
    "    wd=0,\n",
    ")\n",
    "\n",
    "logger = CSVLogger('./logs/')\n",
    "trainer = pl.Trainer(\n",
    "    max_epochs=20,\n",
    "    accelerator='cpu', \n",
    "    limit_train_batches=100,\n",
    "    logger=logger,\n",
    "    enable_progress_bar=True,\n",
    ")\n",
    "\n",
    "inf_train_dataloader = infinite_loader(train_dataloader)\n",
    "trainer.fit(model, train_dataloaders=inf_train_dataloader, val_dataloaders=val_dataloader)"
   ]
  },
  {
   "cell_type": "code",
   "execution_count": 81,
   "metadata": {},
   "outputs": [
    {
     "data": {
      "image/png": "[encoded data removed]",
      "text/plain": [
       "<Figure size 640x480 with 1 Axes>"
      ]
     },
     "metadata": {},
     "output_type": "display_data"
    }
   ],
   "source": [
    "import os\n",
    "from matplotlib import pyplot as plt\n",
    "\n",
    "pd.read_csv(os.path.join(logger.log_dir, \"metrics.csv\")).train_loss_epoch.dropna().plot(label=\"Training\")\n",
    "pd.read_csv(os.path.join(logger.log_dir, \"metrics.csv\")).val_loss.dropna().plot(label=\"Validation\")\n",
    "plt.legend()\n",
    "plt.show()"
   ]
  },
  {
   "cell_type": "markdown",
   "metadata": {},
   "source": [
    "## Compare Validation Losses"
   ]
  },
  {
   "cell_type": "code",
   "execution_count": 82,
   "metadata": {},
   "outputs": [
    {
     "data": {
      "image/png": "[encoded data removed]",
      "text/plain": [
       "<Figure size 640x480 with 1 Axes>"
      ]
     },
     "metadata": {},
     "output_type": "display_data"
    }
   ],
   "source": [
    "import os\n",
    "from matplotlib import pyplot as plt\n",
    "\n",
    "\n",
    "pd.read_csv(os.path.join('./logs/lightning_logs/version_15/', \"metrics.csv\")).val_loss.dropna().plot(label=\"SimpleVAE\")\n",
    "pd.read_csv(os.path.join('./logs/lightning_logs/version_19/', \"metrics.csv\")).val_loss.dropna().plot(label=\"EnhancedVAE\")\n",
    "pd.read_csv(os.path.join('./logs/lightning_logs/version_35/', \"metrics.csv\")).val_loss.dropna().plot(label=\"NeuralFactors\")\n",
    "plt.legend()\n",
    "plt.ylabel(\"Val Loss\")\n",
    "\n",
    "plt.show()"
   ]
  },
  {
   "cell_type": "code",
   "execution_count": null,
   "metadata": {},
   "outputs": [],
   "source": []
  }
 ],
 "metadata": {
  "kernelspec": {
   "display_name": "venv",
   "language": "python",
   "name": "venv"
  },
  "language_info": {
   "codemirror_mode": {
    "name": "ipython",
    "version": 3
   },
   "file_extension": ".py",
   "mimetype": "text/x-python",
   "name": "python",
   "nbconvert_exporter": "python",
   "pygments_lexer": "ipython3",
   "version": "3.9.2"
  },
  "orig_nbformat": 4,
  "vscode": {
   "interpreter": {
    "hash": "aee8b7b246df8f9039afb4144a1f6fd8d2ca17a180786b69acc140d282b71a49"
   }
  }
 },
 "nbformat": 4,
 "nbformat_minor": 2
}
